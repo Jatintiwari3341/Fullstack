{
 "cells": [
  {
   "cell_type": "markdown",
   "id": "e83f8216-0054-459a-af48-79818928adc9",
   "metadata": {
    "tags": []
   },
   "source": [
    "\n",
    "<div class=\"alert alert-block alert-info\">\n",
    "    <h1 style=\"font-size: 30px; text-align: center\"><b>Course Basic Assignment</b></h1>\n",
    "</div>\n",
    "\n",
    "### 1. What is HTML?\n",
    "\n",
    " HTML is a standard markup language used to create and design the structure of a web page. It consists of a series of elements, each represented by tags, which define the content and layout of a webpage. HTML provides the basic structure for organizing information on the web, including headings, paragraphs, links, images, and more.\n",
    "\n",
    "### 2. What is CSS?\n",
    "\n",
    "  CSS is a style sheet language that is used to describe the presentation of a document written in HTML. It allows web developers to control the layout, design, and appearance of multiple pages simultaneously. CSS can be applied internally within an HTML document, externally as a separate file, or inline directly within individual HTML tags.\n",
    "\n",
    "### 3. Why did JavaScript come into the picture?\n",
    "\n",
    "   While HTML and CSS handle the structure and presentation of web pages, JavaScript was introduced to bring interactivity and dynamic behavior to the web. JavaScript allows developers to create responsive and interactive user interfaces, validate forms, manipulate the Document Object Model (DOM), and perform asynchronous operations such as fetching data from servers without reloading the entire page.\n",
    "\n",
    "\n",
    "### 4. History of JavaScript and EcmaScript. Explain in your own words\n",
    "\n",
    "- **JavaScript:**\n",
    "     - JavaScript was created by Brendan Eich in 1995 while he was working at Netscape Communications Corporation. It was initially named \"Mocha\" and later \"LiveScript\" before settling on \"JavaScript.\"\n",
    "     - The language gained prominence due to its ability to provide client-side interactivity in web browsers.\n",
    "     - In 1997, JavaScript was submitted to Ecma International for standardization to ensure its compatibility across different browsers.\n",
    "\n",
    "   - **EcmaScript:**\n",
    "     - EcmaScript is the standardized scripting language upon which JavaScript is based. The standardization effort aimed to make JavaScript consistent and interoperable across different platforms and implementations.\n",
    "     - The first edition of the EcmaScript standard, known as ECMAScript 1, was published in 1997.\n",
    "     - Subsequent editions, such as ECMAScript 3 (1999), ECMAScript 5 (2009), and ECMAScript 6 (2015), introduced new features and improvements to the language.\n",
    "     - Modern JavaScript development often refers to ECMAScript 6 (and later) features, as they bring significant enhancements to the language, including arrow functions, classes, modules, and more.\n",
    "\n",
    "   "
   ]
  },
  {
   "cell_type": "code",
   "execution_count": null,
   "id": "65bf7aa5-819f-432d-bab4-d03d504e684d",
   "metadata": {},
   "outputs": [],
   "source": []
  }
 ],
 "metadata": {
  "kernelspec": {
   "display_name": "Python 3 (ipykernel)",
   "language": "python",
   "name": "python3"
  },
  "language_info": {
   "codemirror_mode": {
    "name": "ipython",
    "version": 3
   },
   "file_extension": ".py",
   "mimetype": "text/x-python",
   "name": "python",
   "nbconvert_exporter": "python",
   "pygments_lexer": "ipython3",
   "version": "3.10.8"
  }
 },
 "nbformat": 4,
 "nbformat_minor": 5
}
