{
 "cells": [
  {
   "cell_type": "markdown",
   "id": "e505a07d-570c-40b3-ba3e-6ade9becb750",
   "metadata": {},
   "source": [
    "<div class=\"alert alert-block alert-info\">\n",
    "    <h1 style=\"font-size: 30px; text-align: center\"><b>Getting Started Assignment</b></h1>\n",
    "</div>\n",
    "</div>\n",
    "\n",
    "**1.Why do we start learning a programming language with “Hello World!.**\n",
    "\n",
    "   - The tradition of starting to learn a programming language with a \"Hello, World!\" program has several reasons:\n",
    "     - **Simplicity:** It is a simple and concise program, making it an easy introduction for beginners.\n",
    "     - **Understanding Syntax:** It introduces basic syntax and structure of the language.\n",
    "     - **Verification:** It serves as a quick test to ensure that the development environment is set up correctly.\n",
    "\n",
    " **2.How is the us of comments and how do you write comments in HTML.**\n",
    "\n",
    "   - Comments in HTML are used to add notes or explanations within the code for developers. They are not visible on the webpage. To write comments in HTML, you use the following syntax:\n",
    "     ```html\n",
    "     <!-- This is a comment in HTML -->\n",
    "     ```\n",
    "\n",
    " **3. What are HTML tags and attributes and th diffrence between them.**\n",
    "\n",
    "   - **HTML Tags:** HTML (Hypertext Markup Language) uses tags to define elements on a web page. Tags are enclosed in angle brackets (<>) and come in pairs, with an opening tag and a closing tag. For example:\n",
    "     ```html\n",
    "     <p>This is a paragraph.</p>\n",
    "     ```\n",
    "   - **Attributes:** Attributes provide additional information about HTML elements and are always included in the opening tag. They are usually in name/value pairs. For example:\n",
    "     ```html\n",
    "     <a href=\"https://www.example.com\">Visit our website</a>\n",
    "     ```\n",
    "     In this example, `href` is an attribute of the `<a>` (anchor) tag, and it specifies the hyperlink destination.\n",
    "\n",
    "   - **Difference between Tags and Attributes:**\n",
    "     - Tags define the structure and content of an element.\n",
    "     - Attributes provide additional information about the element or modify its behavior.\n",
    "\n",
    "  **4.Briefly explain what HTML entities are.**\n",
    "   - HTML entities are special codes used to represent reserved characters, such as `<`, `>`, `&`, etc., in HTML documents. These characters have special meanings in HTML, so using entities allows you to display them without affecting the document structure. For example:\n",
    "     - `&lt;` represents `<`\n",
    "     - `&gt;` represents `>`\n",
    "     - `&amp;` represents `&`\n",
    "\n",
    "   - Using entities ensures that these characters are treated as literal characters and not as part of HTML syntax. This is particularly important when you want to display code or examples on a webpage without the browser interpreting them as HTML tags."
   ]
  }
 ],
 "metadata": {
  "kernelspec": {
   "display_name": "Python 3 (ipykernel)",
   "language": "python",
   "name": "python3"
  },
  "language_info": {
   "codemirror_mode": {
    "name": "ipython",
    "version": 3
   },
   "file_extension": ".py",
   "mimetype": "text/x-python",
   "name": "python",
   "nbconvert_exporter": "python",
   "pygments_lexer": "ipython3",
   "version": "3.10.8"
  }
 },
 "nbformat": 4,
 "nbformat_minor": 5
}
