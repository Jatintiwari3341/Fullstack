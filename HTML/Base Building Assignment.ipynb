{
 "cells": [
  {
   "cell_type": "markdown",
   "id": "ee571baa-21fc-404a-80c5-4113869fd302",
   "metadata": {},
   "source": [
    "### 1. What is the Internet? Explain in your own words.\n",
    "\n",
    "   - The Internet is a global network of interconnected computers and devices that communicate with each other through a set of standardized protocols. It allows the exchange of information, data, and services across the world. The internet is the infrastructure that enables various online activities, including browsing websites, sending emails, and accessing diverse digital content.\n",
    "\n",
    "### 2. What is a web browser? Explain in your own words.\n",
    "\n",
    "   - A web browser is a software application that allows users to access and navigate the World Wide Web. It interprets and displays web content, which may include text, images, videos, and other multimedia elements. Popular web browsers include Chrome, Firefox, Safari, and Edge. Users interact with web browsers to enter website addresses (URLs) and interact with the content presented on web pages.\n",
    "\n",
    "### 3. What is a browser engine? Explain in your own words.\n",
    "\n",
    "   - A browser engine, also known as a rendering engine, is a core component of a web browser responsible for rendering and displaying content on web pages. It interprets the HTML, CSS, and JavaScript code of a webpage, translating it into a visual representation for users. Each web browser has its own engine (e.g., Blink for Chrome, Gecko for Firefox), which influences how web pages are displayed and how different features are supported.\n",
    "\n",
    "\n",
    "### . What is a static site? Explain in your own words.\n",
    "\n",
    "   - A static site refers to a website that is composed of fixed, unchanging web pages. The content on these sites remains constant and doesn't dynamically change based on user interactions. Static sites are typically built using HTML and may include CSS for styling. They are straightforward, fast, and easy to host, but they lack the dynamic and interactive elements found in more complex, dynamic websites.\n",
    "\n",
    "\n",
    "###5. What is a dynamic site? Explain in your own words.\n",
    "   - A dynamic site is a website that generates content on-the-fly, often in response to user input or interactions. Dynamic sites use server-side technologies, databases, and scripting languages like PHP, Python, or JavaScript to generate content dynamically. This allows for personalized user experiences, real-time updates, and interactive features such as user authentication, content updates, and data processing. Examples include social media platforms, e-commerce sites, and web applications."
   ]
  }
 ],
 "metadata": {
  "kernelspec": {
   "display_name": "Python 3 (ipykernel)",
   "language": "python",
   "name": "python3"
  },
  "language_info": {
   "codemirror_mode": {
    "name": "ipython",
    "version": 3
   },
   "file_extension": ".py",
   "mimetype": "text/x-python",
   "name": "python",
   "nbconvert_exporter": "python",
   "pygments_lexer": "ipython3",
   "version": "3.10.8"
  }
 },
 "nbformat": 4,
 "nbformat_minor": 5
}
