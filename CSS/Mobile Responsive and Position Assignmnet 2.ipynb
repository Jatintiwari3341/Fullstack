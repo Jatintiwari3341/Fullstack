{
 "cells": [
  {
   "cell_type": "markdown",
   "id": "228375e4-93d6-4797-84a2-f54f5d3d0285",
   "metadata": {},
   "source": [
    "\n",
    "\n",
    "\n",
    "### 1. What is position property in CSS and its type?\n",
    "\n",
    "   The `position` property in CSS is used to specify the positioning method for an element within its containing element. The `position` property can take several values:\n",
    "\n",
    "   - **static:** The default value. Elements are positioned according to the normal flow of the document.\n",
    "\n",
    "   - **relative:** The element is positioned relative to its normal position in the document flow. This allows you to move the element from its default position using the `top`, `right`, `bottom`, or `left` properties.\n",
    "\n",
    "   - **absolute:** The element is positioned relative to its nearest positioned (not static) ancestor, if any. If there is no such ancestor, it is positioned relative to the initial containing block.\n",
    "\n",
    "   - **fixed:** The element is positioned relative to the browser window, and it will not move when the page is scrolled.\n",
    "\n",
    "   - **sticky:** The element is treated as `relative` positioned until it crosses a specified point during scrolling, at which point it is treated as `fixed`.\n",
    "\n",
    "### 2. How many types of positioning are there in CSS?\n",
    "\n",
    "   There are five types of positioning in CSS:\n",
    "\n",
    "   - **Static Positioning:** The default positioning where elements are placed in the normal flow of the document.\n",
    "\n",
    "   - **Relative Positioning:** Elements are positioned relative to their normal position, allowing you to offset them from their default position.\n",
    "\n",
    "   - **Absolute Positioning:** Elements are positioned relative to their nearest positioned ancestor, creating a stacking context.\n",
    "\n",
    "   - **Fixed Positioning:** Elements are positioned relative to the browser window, and they stay fixed even when the page is scrolled.\n",
    "\n",
    "   - **Sticky Positioning:** Elements are treated as `relative` positioned until they cross a specified point during scrolling, at which point they become `fixed`.\n",
    "\n",
    "### 3. What is Z-index and why to use it?\n",
    "   The `z-index` property in CSS is used to control the stacking order of positioned elements. Elements with a higher `z-index` value are stacked above elements with lower `z-index` values. It only affects elements that have a specified `position` value other than `static` (e.g., `relative`, `absolute`, `fixed`, or `sticky`).\n",
    "\n",
    "   Example:\n",
    "   ```css\n",
    "   .top-element {\n",
    "       position: absolute;\n",
    "       z-index: 2;\n",
    "   }\n",
    "\n",
    "   .bottom-element {\n",
    "       position: absolute;\n",
    "       z-index: 1;\n",
    "   }\n",
    "   ```\n",
    "\n",
    "   In this example, the `.top-element` would be stacked above the `.bottom-element` due to its higher `z-index`. `z-index` is useful when you have overlapping elements, and you want to control which one appears on top. Keep in mind that `z-index` only works on elements with a specified `position` other than `static`."
   ]
  },
  {
   "cell_type": "code",
   "execution_count": null,
   "id": "490bfa66-3a21-4e15-9e9a-dc951d15a834",
   "metadata": {},
   "outputs": [],
   "source": []
  }
 ],
 "metadata": {
  "kernelspec": {
   "display_name": "Python 3 (ipykernel)",
   "language": "python",
   "name": "python3"
  },
  "language_info": {
   "codemirror_mode": {
    "name": "ipython",
    "version": 3
   },
   "file_extension": ".py",
   "mimetype": "text/x-python",
   "name": "python",
   "nbconvert_exporter": "python",
   "pygments_lexer": "ipython3",
   "version": "3.10.8"
  }
 },
 "nbformat": 4,
 "nbformat_minor": 5
}
