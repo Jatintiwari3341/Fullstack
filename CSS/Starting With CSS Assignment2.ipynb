{
 "cells": [
  {
   "cell_type": "markdown",
   "id": "385cd311-879c-45e8-90e4-f2bdb6e94059",
   "metadata": {},
   "source": [
    "<div class=\"alert alert-block alert-info\">\n",
    "    <h1 style=\"font-size: 30px; text-align: center\"><b>Starting With CSS Assignment2</b></h1>\n",
    "</div>\n",
    "\n",
    "### 1. Why CSS selectors are used in HTML?\n",
    "\n",
    "- **Targeting Elements:** CSS selectors are used in HTML to target and select specific HTML elements or groups of elements.\n",
    "   - **Styling:** Once selected, CSS rules can be applied to these elements to control their appearance, such as setting colors, fonts, margins, and more.\n",
    "   - **Separation of Concerns:** CSS selectors facilitate the separation of style from content, making it easier to maintain and update the styling without altering the HTML structure.\n",
    "   - **Consistency:** Selectors help ensure a consistent look and feel across multiple pages of a website by applying styles to elements with similar roles or classes.\n",
    "\n",
    "### 2. What are the different types of Selectors in CSS?\n",
    "\n",
    "   - **Type or Tag Selectors:** Select elements based on their HTML tag. For example, `p` selects all paragraphs.\n",
    "   - **Class Selectors:** Select elements with a specific class attribute. For example, `.highlight` selects all elements with the class \"highlight.\"\n",
    "   - **ID Selectors:** Select a specific element with a unique ID attribute. For example, `#header` selects the element with the ID \"header.\"\n",
    "   - **Descendant Selectors:** Select elements that are descendants of another specified element. For example, `div p` selects all paragraphs inside a div.\n",
    "   - **Child Selectors:** Select elements that are direct children of another specified element. For example, `ul > li` selects all list items that are direct children of a ul.\n",
    "   - **Attribute Selectors:** Select elements based on their attributes. For example, `input[type=\"text\"]` selects all input elements with the type \"text.\"\n",
    "   - **Pseudo-classes and Pseudo-elements:** Select elements based on their state or position. For example, `:hover` selects an element when the user hovers over it, and `::before` selects the content before an element.\n",
    "\n",
    "### 3. How do you include external fonts and apply them?\n",
    "\n",
    "   - **Linking External Fonts:**\n",
    "     To include external fonts, you can use the `@font-face` rule in your CSS. For example:\n",
    "     ```css\n",
    "     @font-face {\n",
    "       font-family: 'CustomFont';\n",
    "       src: url('path/to/font.woff2') format('woff2'),\n",
    "            url('path/to/font.woff') format('woff');\n",
    "     }\n",
    "\n",
    "     body {\n",
    "       font-family: 'CustomFont', sans-serif;\n",
    "     }\n",
    "     ```\n",
    "     Replace `'CustomFont'` with the desired font name and provide the correct paths to your font files.\n",
    "\n",
    "   - **Using Google Fonts:**\n",
    "     You can also include fonts from services like Google Fonts. Include the following link in the `<head>` of your HTML file:\n",
    "     ```html\n",
    "     <link rel=\"stylesheet\" href=\"https://fonts.googleapis.com/css2?family=FontName&display=swap\">\n",
    "     ```\n",
    "     Replace `'FontName'` with the name of the font you want to use.\n",
    "\n",
    "   - **Applying Fonts:**\n",
    "     Once the font is linked or imported, you can apply it to specific elements or the entire document using the `font-family` property in your CSS. For example:\n",
    "     ```css\n",
    "     body {\n",
    "       font-family: 'FontName', sans-serif;\n",
    "     }\n",
    "     ```\n",
    "     Replace `'FontName'` with the name of the desired font."
   ]
  },
  {
   "cell_type": "markdown",
   "id": "4e1b2060-1a10-464e-af22-602c8389f460",
   "metadata": {},
   "source": []
  }
 ],
 "metadata": {
  "kernelspec": {
   "display_name": "Python 3 (ipykernel)",
   "language": "python",
   "name": "python3"
  },
  "language_info": {
   "codemirror_mode": {
    "name": "ipython",
    "version": 3
   },
   "file_extension": ".py",
   "mimetype": "text/x-python",
   "name": "python",
   "nbconvert_exporter": "python",
   "pygments_lexer": "ipython3",
   "version": "3.10.8"
  }
 },
 "nbformat": 4,
 "nbformat_minor": 5
}
