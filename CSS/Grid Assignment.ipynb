{
 "cells": [
  {
   "cell_type": "markdown",
   "id": "a0fb3a52-ff0e-40b4-a6fa-4856a6fe5223",
   "metadata": {},
   "source": [
    "<div class=\"alert alert-block alert-info\">\n",
    "    <h1 style=\"font-size: 30px; text-align: center\"><b>Grid Assignment</b></h1>\n",
    "</div>\n",
    "\n",
    "### 1. What is the grid?\n",
    "\n",
    "   In web development, the term \"grid\" typically refers to CSS Grid, a layout system that allows you to create two-dimensional layouts for web pages. CSS Grid Layout provides a way to design complex web layouts with rows and columns, making it easier to create responsive and flexible designs.\n",
    "\n",
    "### 2. What is the difference between Flex and grid?\n",
    "\n",
    "   - **Flexbox (Flexible Box Layout):**\n",
    "     - One-dimensional layout system, designed for laying out items in a single direction (either horizontally or vertically).\n",
    "     - Best suited for simple layouts along a single axis.\n",
    "     - Ideal for aligning items within a container and distributing space along a single axis.\n",
    "\n",
    "   - **CSS Grid:**\n",
    "     - Two-dimensional layout system, designed for both rows and columns, providing a grid structure for complex layouts.\n",
    "     - Allows precise control over both rows and columns, enabling the creation of more complex and versatile layouts.\n",
    "     - Ideal for designing grid-based structures where items need to be placed in both rows and columns.\n",
    "\n",
    "### 3. How can you define rows and columns for your grid?\n",
    "\n",
    "   To define rows and columns in a CSS Grid, you can use the `grid-template-rows` and `grid-template-columns` properties in the container's CSS.\n",
    "\n",
    "   Example:\n",
    "   ```css\n",
    "   .grid-container {\n",
    "       display: grid;\n",
    "       grid-template-rows: 100px 200px; /* Defines two rows with heights of 100px and 200px */\n",
    "       grid-template-columns: 1fr 2fr; /* Defines two columns with a 1:2 ratio */\n",
    "   }\n",
    "   ```\n",
    "\n",
    "### 4. List any two properties of the grid item and grid container.\n",
    "\n",
    "   - **Grid Container Properties:**\n",
    "     - **`display: grid;`**: This property is used to define an element as a grid container.\n",
    "     - **`grid-template-rows` and `grid-template-columns`**: These properties define the number and size of rows and columns in the grid.\n",
    "\n",
    "   - **Grid Item Properties:**\n",
    "     - **`grid-row` and `grid-column`**: These properties determine the placement of the grid item within the grid.\n",
    "     - **`grid-area`**: This property allows you to specify the grid item's position and span in a single property."
   ]
  }
 ],
 "metadata": {
  "kernelspec": {
   "display_name": "Python 3 (ipykernel)",
   "language": "python",
   "name": "python3"
  },
  "language_info": {
   "codemirror_mode": {
    "name": "ipython",
    "version": 3
   },
   "file_extension": ".py",
   "mimetype": "text/x-python",
   "name": "python",
   "nbconvert_exporter": "python",
   "pygments_lexer": "ipython3",
   "version": "3.10.8"
  }
 },
 "nbformat": 4,
 "nbformat_minor": 5
}
